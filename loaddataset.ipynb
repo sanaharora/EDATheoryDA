{
  "nbformat": 4,
  "nbformat_minor": 0,
  "metadata": {
    "colab": {
      "provenance": [],
      "authorship_tag": "ABX9TyOiQtt8G3xVCKKKUns+oIAl",
      "include_colab_link": true
    },
    "kernelspec": {
      "name": "python3",
      "display_name": "Python 3"
    },
    "language_info": {
      "name": "python"
    }
  },
  "cells": [
    {
      "cell_type": "markdown",
      "metadata": {
        "id": "view-in-github",
        "colab_type": "text"
      },
      "source": [
        "<a href=\"https://colab.research.google.com/github/sanaharora/EDATheoryDA/blob/main/loaddataset.ipynb\" target=\"_parent\"><img src=\"https://colab.research.google.com/assets/colab-badge.svg\" alt=\"Open In Colab\"/></a>"
      ]
    },
    {
      "cell_type": "code",
      "execution_count": 1,
      "metadata": {
        "id": "ru2odH6B24Bv"
      },
      "outputs": [],
      "source": [
        "import pandas as pd\n",
        "import numpy as np\n",
        "\n"
      ]
    },
    {
      "cell_type": "code",
      "source": [
        "url = \"https://raw.githubusercontent.com/salemprakash/EDA/main/Data/bodyPerformance.csv\"\n",
        "df = pd.read_csv(url)"
      ],
      "metadata": {
        "id": "qVe3F58H3uiw"
      },
      "execution_count": 2,
      "outputs": []
    },
    {
      "cell_type": "code",
      "source": [
        "print(f\"Dimensions: {df.shape}\")\n",
        "print(\"First 5 rows:\")\n",
        "print(df.head())\n",
        "print(\"\\nMissing Values:\")\n",
        "print(df.isnull().sum())\n",
        "print(\"\\nBasic Statistics:\")\n",
        "print(df.describe())\n",
        "print(\"\\nData Types:\")\n",
        "print(df.dtypes)"
      ],
      "metadata": {
        "colab": {
          "base_uri": "https://localhost:8080/"
        },
        "id": "SylTaHod4BFo",
        "outputId": "b85bb5bd-073e-4745-e7be-179965b4b6d8"
      },
      "execution_count": 3,
      "outputs": [
        {
          "output_type": "stream",
          "name": "stdout",
          "text": [
            "Dimensions: (13393, 12)\n",
            "First 5 rows:\n",
            "   age gender  height_cm  weight_kg  body fat_%  diastolic  systolic  \\\n",
            "0   27      M      172.3      75.24        21.3       80.0     130.0   \n",
            "1   25      M      165.0      55.80        15.7       77.0     126.0   \n",
            "2   31      M      179.6      78.00        20.1       92.0     152.0   \n",
            "3   32      M      174.5      71.10        18.4       76.0     147.0   \n",
            "4   28      M      173.8      67.70        17.1       70.0     127.0   \n",
            "\n",
            "   gripForce  sit and bend forward_cm  sit-ups counts  broad jump_cm class  \n",
            "0       54.9                     18.4            60.0          217.0     C  \n",
            "1       36.4                     16.3            53.0          229.0     A  \n",
            "2       44.8                     12.0            49.0          181.0     C  \n",
            "3       41.4                     15.2            53.0          219.0     B  \n",
            "4       43.5                     27.1            45.0          217.0     B  \n",
            "\n",
            "Missing Values:\n",
            "age                        0\n",
            "gender                     1\n",
            "height_cm                  0\n",
            "weight_kg                  0\n",
            "body fat_%                 1\n",
            "diastolic                  0\n",
            "systolic                   1\n",
            "gripForce                  0\n",
            "sit and bend forward_cm    0\n",
            "sit-ups counts             0\n",
            "broad jump_cm              0\n",
            "class                      0\n",
            "dtype: int64\n",
            "\n",
            "Basic Statistics:\n",
            "                age     height_cm     weight_kg    body fat_%     diastolic  \\\n",
            "count  13393.000000  13393.000000  13393.000000  13392.000000  13393.000000   \n",
            "mean      36.775106    168.559807     67.447316     23.240258     78.796842   \n",
            "std       13.625639      8.426583     11.949666      7.257107     10.742033   \n",
            "min       21.000000    125.000000     26.300000      3.000000      0.000000   \n",
            "25%       25.000000    162.400000     58.200000     18.000000     71.000000   \n",
            "50%       32.000000    169.200000     67.400000     22.800000     79.000000   \n",
            "75%       48.000000    174.800000     75.300000     28.000000     86.000000   \n",
            "max       64.000000    193.800000    138.100000     78.400000    156.200000   \n",
            "\n",
            "           systolic     gripForce  sit and bend forward_cm  sit-ups counts  \\\n",
            "count  13392.000000  13393.000000             13393.000000    13393.000000   \n",
            "mean     130.233938     36.963877                15.209268       39.771224   \n",
            "std       14.714152     10.624864                 8.456677       14.276698   \n",
            "min        0.000000      0.000000               -25.000000        0.000000   \n",
            "25%      120.000000     27.500000                10.900000       30.000000   \n",
            "50%      130.000000     37.900000                16.200000       41.000000   \n",
            "75%      141.000000     45.200000                20.700000       50.000000   \n",
            "max      201.000000     70.500000               213.000000       80.000000   \n",
            "\n",
            "       broad jump_cm  \n",
            "count   13393.000000  \n",
            "mean      190.129627  \n",
            "std        39.868000  \n",
            "min         0.000000  \n",
            "25%       162.000000  \n",
            "50%       193.000000  \n",
            "75%       221.000000  \n",
            "max       303.000000  \n",
            "\n",
            "Data Types:\n",
            "age                          int64\n",
            "gender                      object\n",
            "height_cm                  float64\n",
            "weight_kg                  float64\n",
            "body fat_%                 float64\n",
            "diastolic                  float64\n",
            "systolic                   float64\n",
            "gripForce                  float64\n",
            "sit and bend forward_cm    float64\n",
            "sit-ups counts             float64\n",
            "broad jump_cm              float64\n",
            "class                       object\n",
            "dtype: object\n"
          ]
        }
      ]
    }
  ]
}